{
 "cells": [
  {
   "cell_type": "markdown",
   "metadata": {},
   "source": [
    "# Project 4\n",
    "\n",
    "In this project, you will analyze the admissions data in detail and build a model and explain it. It is more open ended so feel free to use all the various techniques that you have learnt so far. "
   ]
  },
  {
   "cell_type": "code",
   "execution_count": 177,
   "metadata": {
    "collapsed": false
   },
   "outputs": [
    {
     "name": "stdout",
     "output_type": "stream",
     "text": [
      "   admit    gre   gpa  prestige\n",
      "0      0  380.0  3.61       3.0\n",
      "1      1  660.0  3.67       3.0\n",
      "2      1  800.0  4.00       1.0\n",
      "3      1  640.0  3.19       4.0\n",
      "4      0  520.0  2.93       4.0\n"
     ]
    }
   ],
   "source": [
    "%matplotlib inline\n",
    "import matplotlib.pyplot as plt\n",
    "import pandas as pd\n",
    "import statsmodels.api as sm\n",
    "import pylab as pl\n",
    "import numpy as np\n",
    "from sklearn import grid_search, linear_model, metrics, cross_validation, neighbors\n",
    "from sklearn.linear_model import LogisticRegression\n",
    "\n",
    "df_raw = pd.read_csv(\"../assets/admissions.csv\")\n",
    "print df_raw.head()"
   ]
  },
  {
   "cell_type": "markdown",
   "metadata": {},
   "source": [
    "## What are the predictors and dependent variable ?"
   ]
  },
  {
   "cell_type": "code",
   "execution_count": 178,
   "metadata": {
    "collapsed": true
   },
   "outputs": [],
   "source": [
    "# The predictors are GRE, GPA, and Prestige.  The dependent variable is Admit (whether the student was admitted)"
   ]
  },
  {
   "cell_type": "markdown",
   "metadata": {},
   "source": [
    "### Intro: Write a problem Statement/ Specific hypothesis you have regarding admissions?"
   ]
  },
  {
   "cell_type": "markdown",
   "metadata": {},
   "source": [
    "### Dataset:  Find the distribution of admission, GRE, GPA and Prestige\n",
    "\n",
    "Prestige, GPA, and GRE all have positive associations with admission."
   ]
  },
  {
   "cell_type": "markdown",
   "metadata": {},
   "source": [
    "### FInd the correlation of each feature with admission\n",
    "\n"
   ]
  },
  {
   "cell_type": "code",
   "execution_count": 179,
   "metadata": {
    "collapsed": false
   },
   "outputs": [
    {
     "data": {
      "text/plain": [
       "admit       397\n",
       "gre         397\n",
       "gpa         397\n",
       "prestige    397\n",
       "dtype: int64"
      ]
     },
     "execution_count": 179,
     "metadata": {},
     "output_type": "execute_result"
    }
   ],
   "source": [
    "df_raw.corr()\n",
    "df = df_raw.dropna()\n",
    "\n",
    "df.count()"
   ]
  },
  {
   "cell_type": "markdown",
   "metadata": {},
   "source": [
    "### How do you deal with the prestige feature?"
   ]
  },
  {
   "cell_type": "code",
   "execution_count": 180,
   "metadata": {
    "collapsed": false
   },
   "outputs": [
    {
     "name": "stdout",
     "output_type": "stream",
     "text": [
      "   admit    gre   gpa  prestige  prestige_1.0  prestige_2.0  prestige_3.0  \\\n",
      "0      0  380.0  3.61       3.0           0.0           0.0           1.0   \n",
      "1      1  660.0  3.67       3.0           0.0           0.0           1.0   \n",
      "2      1  800.0  4.00       1.0           1.0           0.0           0.0   \n",
      "3      1  640.0  3.19       4.0           0.0           0.0           0.0   \n",
      "4      0  520.0  2.93       4.0           0.0           0.0           0.0   \n",
      "\n",
      "   prestige_4.0  \n",
      "0           0.0  \n",
      "1           0.0  \n",
      "2           0.0  \n",
      "3           1.0  \n",
      "4           1.0  \n"
     ]
    }
   ],
   "source": [
    "# Need to create dummy variables to prevent multicolinearity\n",
    "\n",
    "\n",
    "dummy_prestige = pd.get_dummies(df['prestige'], prefix='prestige')\n",
    "                                \n",
    "df_with_dummy_prestige = df.join(dummy_prestige)\n",
    "\n",
    "print df_with_dummy_prestige.head()"
   ]
  },
  {
   "cell_type": "code",
   "execution_count": null,
   "metadata": {
    "collapsed": false
   },
   "outputs": [],
   "source": []
  },
  {
   "cell_type": "code",
   "execution_count": null,
   "metadata": {
    "collapsed": true
   },
   "outputs": [],
   "source": []
  },
  {
   "cell_type": "markdown",
   "metadata": {},
   "source": [
    "### What is the best model and that model's parameter's for predicting admission? Hint: Use GridsearchCV and define what metric you use to find what is best.\n",
    "\n"
   ]
  },
  {
   "cell_type": "code",
   "execution_count": 195,
   "metadata": {
    "collapsed": false
   },
   "outputs": [
    {
     "name": "stdout",
     "output_type": "stream",
     "text": [
      "[[ 0.57345662 -1.79852406 -0.42608405 -0.77095883  1.51029525]\n",
      " [ 0.73146398  0.62420903 -0.42608405 -0.77095883  1.51029525]\n",
      " [ 1.60050448  1.83557557  2.34695478 -0.77095883 -0.66212219]\n",
      " ..., \n",
      " [-2.00733032 -1.10631461 -0.42608405  1.29708613 -0.66212219]\n",
      " [ 0.67879486  0.97031376 -0.42608405  1.29708613 -0.66212219]\n",
      " [ 1.31082431  0.10505194 -0.42608405 -0.77095883  1.51029525]]\n"
     ]
    }
   ],
   "source": [
    "from sklearn import preprocessing as pp\n",
    "\n",
    "features = ['gpa','gre','prestige_1.0','prestige_2.0','prestige_3.0']\n",
    "scaler = pp.StandardScaler().fit(df_with_dummy_prestige[features])\n",
    "scaled_data = scaler.fit_transform(df_with_dummy_prestige[features])\n",
    "\n",
    "print scaled_data\n",
    "\n",
    "y = df_with_dummy_prestige.admit\n",
    "\n",
    "\n",
    "modeldata = df_with_dummy_prestige[['gpa','gre','prestige_1.0','prestige_2.0','prestige_3.0']]\n",
    "\n",
    "kf = cross_validation.KFold(len(features), n_folds=5, shuffle=True)"
   ]
  },
  {
   "cell_type": "code",
   "execution_count": 197,
   "metadata": {
    "collapsed": false
   },
   "outputs": [
    {
     "data": {
      "text/plain": [
       "sklearn.cross_validation.KFold"
      ]
     },
     "execution_count": 197,
     "metadata": {},
     "output_type": "execute_result"
    }
   ],
   "source": [
    "type(kf)"
   ]
  },
  {
   "cell_type": "code",
   "execution_count": null,
   "metadata": {
    "collapsed": false
   },
   "outputs": [],
   "source": []
  },
  {
   "cell_type": "code",
   "execution_count": 237,
   "metadata": {
    "collapsed": false
   },
   "outputs": [
    {
     "data": {
      "text/plain": [
       "[mean: 0.66499, std: 0.06660, params: {'n_neighbors': 2},\n",
       " mean: 0.66751, std: 0.07715, params: {'n_neighbors': 3},\n",
       " mean: 0.69018, std: 0.06388, params: {'n_neighbors': 4},\n",
       " mean: 0.68514, std: 0.08323, params: {'n_neighbors': 5},\n",
       " mean: 0.70529, std: 0.07237, params: {'n_neighbors': 6},\n",
       " mean: 0.68010, std: 0.05455, params: {'n_neighbors': 7},\n",
       " mean: 0.69018, std: 0.04666, params: {'n_neighbors': 8},\n",
       " mean: 0.69521, std: 0.03456, params: {'n_neighbors': 9}]"
      ]
     },
     "execution_count": 237,
     "metadata": {},
     "output_type": "execute_result"
    }
   ],
   "source": [
    "import matplotlib.pyplot as plt\n",
    "\n",
    "k = range(2, 10)\n",
    "params = {'n_neighbors': k }\n",
    "kf = cross_validation.KFold(len(df_with_dummy_prestige), n_folds = 5)\n",
    "gs_k = grid_search.GridSearchCV(\n",
    "    estimator=neighbors.KNeighborsClassifier(),\n",
    "    param_grid=params,\n",
    "    cv=kf,\n",
    ")\n",
    "gs_k.fit(modeldata, y)\n",
    "gs_k.grid_scores_"
   ]
  },
  {
   "cell_type": "code",
   "execution_count": 238,
   "metadata": {
    "collapsed": false
   },
   "outputs": [
    {
     "data": {
      "text/plain": [
       "0.70528967254408059"
      ]
     },
     "execution_count": 238,
     "metadata": {},
     "output_type": "execute_result"
    }
   ],
   "source": [
    "gs_k.best_score_"
   ]
  },
  {
   "cell_type": "code",
   "execution_count": 239,
   "metadata": {
    "collapsed": false
   },
   "outputs": [
    {
     "data": {
      "text/plain": [
       "KNeighborsClassifier(algorithm='auto', leaf_size=30, metric='minkowski',\n",
       "           metric_params=None, n_jobs=1, n_neighbors=6, p=2,\n",
       "           weights='uniform')"
      ]
     },
     "execution_count": 239,
     "metadata": {},
     "output_type": "execute_result"
    }
   ],
   "source": [
    "gs_k.best_estimator_"
   ]
  },
  {
   "cell_type": "code",
   "execution_count": 240,
   "metadata": {
    "collapsed": false
   },
   "outputs": [
    {
     "data": {
      "text/plain": [
       "{'n_neighbors': 6}"
      ]
     },
     "execution_count": 240,
     "metadata": {},
     "output_type": "execute_result"
    }
   ],
   "source": [
    "gs_k.best_params_"
   ]
  },
  {
   "cell_type": "code",
   "execution_count": 255,
   "metadata": {
    "collapsed": false
   },
   "outputs": [
    {
     "data": {
      "text/plain": [
       "[mean: 0.71285, std: 0.05795, params: {'C': 1},\n",
       " mean: 0.71537, std: 0.06205, params: {'C': 2},\n",
       " mean: 0.71285, std: 0.06311, params: {'C': 3},\n",
       " mean: 0.71285, std: 0.06311, params: {'C': 4},\n",
       " mean: 0.71285, std: 0.06311, params: {'C': 5},\n",
       " mean: 0.71285, std: 0.06311, params: {'C': 6},\n",
       " mean: 0.71285, std: 0.06311, params: {'C': 7},\n",
       " mean: 0.71285, std: 0.06311, params: {'C': 8},\n",
       " mean: 0.71285, std: 0.06311, params: {'C': 9},\n",
       " mean: 0.71285, std: 0.06311, params: {'C': 10},\n",
       " mean: 0.71285, std: 0.06311, params: {'C': 11},\n",
       " mean: 0.71285, std: 0.06311, params: {'C': 12},\n",
       " mean: 0.71285, std: 0.06311, params: {'C': 13},\n",
       " mean: 0.71285, std: 0.06311, params: {'C': 14},\n",
       " mean: 0.71285, std: 0.06311, params: {'C': 15},\n",
       " mean: 0.71285, std: 0.06311, params: {'C': 16},\n",
       " mean: 0.71285, std: 0.06311, params: {'C': 17},\n",
       " mean: 0.71285, std: 0.06311, params: {'C': 18},\n",
       " mean: 0.71285, std: 0.06311, params: {'C': 19}]"
      ]
     },
     "execution_count": 255,
     "metadata": {},
     "output_type": "execute_result"
    }
   ],
   "source": [
    "gs_log = grid_search.GridSearchCV(\n",
    "    estimator=LogisticRegression(),\n",
    "    param_grid={'C':[i for i in range(1, 20)]},\n",
    "    cv=cross_validation.KFold(n=len(df_with_dummy_prestige), n_folds=10),\n",
    "    scoring='accuracy'\n",
    ")\n",
    "\n",
    "gs_log.fit(scaled_data, y)\n",
    "gs_log.grid_scores_\n"
   ]
  },
  {
   "cell_type": "code",
   "execution_count": 256,
   "metadata": {
    "collapsed": false
   },
   "outputs": [
    {
     "data": {
      "text/plain": [
       "0.7153652392947103"
      ]
     },
     "execution_count": 256,
     "metadata": {},
     "output_type": "execute_result"
    }
   ],
   "source": [
    "gs_log.best_score_"
   ]
  },
  {
   "cell_type": "code",
   "execution_count": 258,
   "metadata": {
    "collapsed": false
   },
   "outputs": [
    {
     "data": {
      "text/plain": [
       "LogisticRegression(C=2, class_weight=None, dual=False, fit_intercept=True,\n",
       "          intercept_scaling=1, max_iter=100, multi_class='ovr', n_jobs=1,\n",
       "          penalty='l2', random_state=None, solver='liblinear', tol=0.0001,\n",
       "          verbose=0, warm_start=False)"
      ]
     },
     "execution_count": 258,
     "metadata": {},
     "output_type": "execute_result"
    }
   ],
   "source": [
    "gs_log.best_estimator_"
   ]
  },
  {
   "cell_type": "code",
   "execution_count": 259,
   "metadata": {
    "collapsed": false
   },
   "outputs": [
    {
     "name": "stdout",
     "output_type": "stream",
     "text": [
      "[ 1.60050448  1.83557557 -0.42608405 -0.77095883 -0.66212219]\n"
     ]
    }
   ],
   "source": [
    "print scaled_data[10]"
   ]
  },
  {
   "cell_type": "markdown",
   "metadata": {},
   "source": [
    "### What is the most important feature that contributes to the students probability of admission? "
   ]
  },
  {
   "cell_type": "code",
   "execution_count": 263,
   "metadata": {
    "collapsed": false
   },
   "outputs": [
    {
     "data": {
      "text/plain": [
       "[('gpa', 0.29390424173382768),\n",
       " ('gre', 0.2548745981026091),\n",
       " ('prestige_1.0', 0.54873299634880301),\n",
       " ('prestige_2.0', 0.40880612090691887),\n",
       " ('prestige_3.0', 0.087867932758335571)]"
      ]
     },
     "execution_count": 263,
     "metadata": {},
     "output_type": "execute_result"
    }
   ],
   "source": [
    "zip(features,gs_log.best_estimator_.coef_[0])"
   ]
  },
  {
   "cell_type": "code",
   "execution_count": null,
   "metadata": {
    "collapsed": false
   },
   "outputs": [],
   "source": []
  },
  {
   "cell_type": "code",
   "execution_count": 262,
   "metadata": {
    "collapsed": false
   },
   "outputs": [
    {
     "ename": "TypeError",
     "evalue": "zip argument #2 must support iteration",
     "output_type": "error",
     "traceback": [
      "\u001b[0;31m---------------------------------------------------------------------------\u001b[0m",
      "\u001b[0;31mTypeError\u001b[0m                                 Traceback (most recent call last)",
      "\u001b[0;32m<ipython-input-262-e829891b1e43>\u001b[0m in \u001b[0;36m<module>\u001b[0;34m()\u001b[0m\n\u001b[0;32m----> 1\u001b[0;31m \u001b[0mzip\u001b[0m\u001b[0;34m(\u001b[0m\u001b[0mfeatures\u001b[0m\u001b[0;34m,\u001b[0m\u001b[0mgs_k\u001b[0m\u001b[0;34m.\u001b[0m\u001b[0mbest_estimator_\u001b[0m\u001b[0;34m.\u001b[0m\u001b[0mmetric_params\u001b[0m\u001b[0;34m)\u001b[0m\u001b[0;34m\u001b[0m\u001b[0m\n\u001b[0m",
      "\u001b[0;31mTypeError\u001b[0m: zip argument #2 must support iteration"
     ]
    }
   ],
   "source": []
  },
  {
   "cell_type": "markdown",
   "metadata": {},
   "source": [
    "### Visualize the model relative to prestige and GPA. HINT: Use the technique from the visualization of the flight delay model"
   ]
  },
  {
   "cell_type": "code",
   "execution_count": 288,
   "metadata": {
    "collapsed": false
   },
   "outputs": [],
   "source": [
    "df_with_dummy_prestige[\"log_predict\"] = gs_log.predict_proba(scaled_data)[:,1]\n",
    "\n",
    "\n"
   ]
  },
  {
   "cell_type": "code",
   "execution_count": 296,
   "metadata": {
    "collapsed": false
   },
   "outputs": [
    {
     "name": "stdout",
     "output_type": "stream",
     "text": [
      "0 blue\n",
      "1 green\n",
      "2 red\n",
      "3 purple\n"
     ]
    },
    {
     "data": {
      "image/png": "[encoded data removed]",
      "text/plain": [
       "<matplotlib.figure.Figure at 0x119212b10>"
      ]
     },
     "metadata": {},
     "output_type": "display_data"
    }
   ],
   "source": [
    "ax = plt.subplot(111)\n",
    "prestige_features = ['prestige_1.0','prestige_2.0','prestige_3.0','prestige_4.0']\n",
    "colors = ['blue', 'green', 'red', 'purple']\n",
    "for e, c in enumerate(colors):\n",
    "    df_with_dummy_prestige[df_with_dummy_prestige[prestige_features[e]] == 1].plot(x='gpa', y='log_predict', kind='scatter', color = c, ax=ax)\n",
    "    print e,c\n",
    "\n"
   ]
  },
  {
   "cell_type": "code",
   "execution_count": null,
   "metadata": {
    "collapsed": false
   },
   "outputs": [],
   "source": [
    "\n"
   ]
  },
  {
   "cell_type": "code",
   "execution_count": null,
   "metadata": {
    "collapsed": false
   },
   "outputs": [],
   "source": []
  },
  {
   "cell_type": "code",
   "execution_count": null,
   "metadata": {
    "collapsed": true
   },
   "outputs": [],
   "source": []
  },
  {
   "cell_type": "code",
   "execution_count": null,
   "metadata": {
    "collapsed": true
   },
   "outputs": [],
   "source": []
  }
 ],
 "metadata": {
  "kernelspec": {
   "display_name": "Python [Root]",
   "language": "python",
   "name": "Python [Root]"
  },
  "language_info": {
   "codemirror_mode": {
    "name": "ipython",
    "version": 2
   },
   "file_extension": ".py",
   "mimetype": "text/x-python",
   "name": "python",
   "nbconvert_exporter": "python",
   "pygments_lexer": "ipython2",
   "version": "2.7.12"
  }
 },
 "nbformat": 4,
 "nbformat_minor": 0
}
